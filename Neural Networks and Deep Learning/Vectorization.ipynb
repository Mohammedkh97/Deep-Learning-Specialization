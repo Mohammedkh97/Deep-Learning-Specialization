{
 "cells": [
  {
   "cell_type": "code",
   "execution_count": 1,
   "id": "5421b63a",
   "metadata": {},
   "outputs": [
    {
     "name": "stdout",
     "output_type": "stream",
     "text": [
      "Non-vectorized result: 333058.4047119106\n",
      "Vectorized result: 333058.4047119119\n",
      "Non-vectorized time: 73.21619987487793 ms\n",
      "Vectorized time: 2.691507339477539 ms\n"
     ]
    }
   ],
   "source": [
    "# Vectorized and Non-Vectorized Examples\n",
    "\n",
    "import numpy as np\n",
    "import time\n",
    "\n",
    "# Non-vectorized example: sum of squares\n",
    "def sum_of_squares_non_vectorized(arr):\n",
    "    total = 0\n",
    "    for x in arr:\n",
    "        total += x ** 2\n",
    "    return total\n",
    "\n",
    "# Vectorized example: sum of squares\n",
    "def sum_of_squares_vectorized(arr):\n",
    "    return np.sum(arr ** 2)\n",
    "arr = np.random.rand(1000000)\n",
    "# Timing non-vectorized\n",
    "start_non_vec = time.time()\n",
    "non_vec_result = sum_of_squares_non_vectorized(arr)\n",
    "end_non_vec = time.time()\n",
    "non_vec_time = end_non_vec - start_non_vec\n",
    "\n",
    "# Timing vectorized\n",
    "start_vec = time.time()\n",
    "vec_result = sum_of_squares_vectorized(arr)\n",
    "end_vec = time.time()\n",
    "vec_time = end_vec - start_vec\n",
    "\n",
    "print(\"Non-vectorized result:\", non_vec_result)\n",
    "print(\"Vectorized result:\", vec_result)\n",
    "print(\"Non-vectorized time:\", str(non_vec_time*1000) + \" ms\")\n",
    "print(\"Vectorized time:\", str(vec_time*1000) + \" ms\")"
   ]
  },
  {
   "cell_type": "code",
   "execution_count": null,
   "id": "d2f38eee",
   "metadata": {},
   "outputs": [],
   "source": []
  }
 ],
 "metadata": {
  "kernelspec": {
   "display_name": "venv",
   "language": "python",
   "name": "python3"
  },
  "language_info": {
   "codemirror_mode": {
    "name": "ipython",
    "version": 3
   },
   "file_extension": ".py",
   "mimetype": "text/x-python",
   "name": "python",
   "nbconvert_exporter": "python",
   "pygments_lexer": "ipython3",
   "version": "3.11.0"
  }
 },
 "nbformat": 4,
 "nbformat_minor": 5
}
